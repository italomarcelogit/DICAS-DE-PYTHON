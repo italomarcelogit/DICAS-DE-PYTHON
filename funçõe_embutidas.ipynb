{
  "nbformat": 4,
  "nbformat_minor": 0,
  "metadata": {
    "colab": {
      "provenance": [],
      "toc_visible": true,
      "authorship_tag": "ABX9TyN8VriEQPbYP5fbIsY2LhZ8",
      "include_colab_link": true
    },
    "kernelspec": {
      "name": "python3",
      "display_name": "Python 3"
    },
    "language_info": {
      "name": "python"
    }
  },
  "cells": [
    {
      "cell_type": "markdown",
      "metadata": {
        "id": "view-in-github",
        "colab_type": "text"
      },
      "source": [
        "<a href=\"https://colab.research.google.com/github/italomarcelogit/DICAS-DE-PYTHON/blob/main/fun%C3%A7%C3%B5e_embutidas.ipynb\" target=\"_parent\"><img src=\"https://colab.research.google.com/assets/colab-badge.svg\" alt=\"Open In Colab\"/></a>"
      ]
    },
    {
      "cell_type": "markdown",
      "source": [
        "# **Python - Funções Embutidas**"
      ],
      "metadata": {
        "id": "mFuitLNRFcbx"
      }
    },
    {
      "cell_type": "markdown",
      "source": [
        "## **O que são as funções embutidas?**\n",
        "\n",
        "Existem alguns tipos de funões em Python que tem que são chamadas para realizar tarefas, de forma modular, específicas e, claro, sendo reutilizáveis. Essas funções podem ser as built-in, recursivas, lambda (função anônima) e as funções definidas pelo usuário.\n",
        "\n",
        "Esse notebook tratará as funções embutidas (Built-in) que são as funções que já vêm prontas com a instalação do Python e definidas pelo interpretador, ao contrário das funções que criamos, de acordo com a nossa necessidade. \n",
        "\n",
        "Abaixo vou compartilhar alguns exemplos das muitas funções úteis e que estão embutidas no python."
      ],
      "metadata": {
        "id": "zVXnaiCTFj3l"
      }
    },
    {
      "cell_type": "markdown",
      "source": [
        "## Exemplos de funções embutidas"
      ],
      "metadata": {
        "id": "6ErYA4_1H3rB"
      }
    },
    {
      "cell_type": "markdown",
      "source": [
        "### print()\n",
        "Função para imprimir o valor de uma variável"
      ],
      "metadata": {
        "id": "xVOrNCzZRw3N"
      }
    },
    {
      "cell_type": "code",
      "execution_count": 1,
      "metadata": {
        "id": "8DZL8Jg9EWu_"
      },
      "outputs": [],
      "source": [
        "# vamos declarar algumas variávies para o estudo\n",
        "texto = \"Meu Texto é 10\"\n",
        "lista = [5, 9.1, 7, 5.8, 8, 2, -9.02]\n",
        "letras = ['C', 'A', 'B']\n",
        "a, b, c = 1, 2, 3.578\n"
      ]
    },
    {
      "cell_type": "markdown",
      "source": [
        "Agora vamos fazer algumas impressões"
      ],
      "metadata": {
        "id": "7jOnX23Ig8pC"
      }
    },
    {
      "cell_type": "code",
      "source": [
        "print(lista) # faz a impressão e pula uma linha"
      ],
      "metadata": {
        "colab": {
          "base_uri": "https://localhost:8080/"
        },
        "id": "ypfABHOYhESQ",
        "outputId": "ee3f7fa2-eed3-4b4e-a50f-5745f7a45139"
      },
      "execution_count": 2,
      "outputs": [
        {
          "output_type": "stream",
          "name": "stdout",
          "text": [
            "[5, 9.1, 7, 5.8, 8, 2, -9.02]\n"
          ]
        }
      ]
    },
    {
      "cell_type": "code",
      "source": [
        "print('Abaixo está a nossa lista e o nossa variável texto')\n",
        "print(lista, texto) # imprime a lista e o texto"
      ],
      "metadata": {
        "colab": {
          "base_uri": "https://localhost:8080/"
        },
        "id": "da8S4xQNhHM8",
        "outputId": "ae922e77-83e8-4e1e-8351-aef519e604bc"
      },
      "execution_count": 3,
      "outputs": [
        {
          "output_type": "stream",
          "name": "stdout",
          "text": [
            "Abaixo está a nossa lista e o nossa variável texto\n",
            "[5, 9.1, 7, 5.8, 8, 2, -9.02] Meu Texto é 10\n"
          ]
        }
      ]
    },
    {
      "cell_type": "code",
      "source": [
        "# imprime uma string e um valor de uma variável qualquer no meio da string\n",
        "print(f'O 2o. valor da nossa lista: {lista[1]}')"
      ],
      "metadata": {
        "colab": {
          "base_uri": "https://localhost:8080/"
        },
        "id": "g7TXbUmShKA2",
        "outputId": "9fa3ad40-748f-4cd9-fbdc-76def3591d06"
      },
      "execution_count": 4,
      "outputs": [
        {
          "output_type": "stream",
          "name": "stdout",
          "text": [
            "O 2o. valor da nossa lista: 9.1\n"
          ]
        }
      ]
    },
    {
      "cell_type": "code",
      "source": [
        "# imprimindo variávias concatenadas com texto e cálculos\n",
        "print(a, \"+\", b, \"+\", c, \"=\", a+b+c)"
      ],
      "metadata": {
        "colab": {
          "base_uri": "https://localhost:8080/"
        },
        "id": "JRDifXi5g6_z",
        "outputId": "8962bf09-7e1a-483f-c409-5779c4a5c491"
      },
      "execution_count": 5,
      "outputs": [
        {
          "output_type": "stream",
          "name": "stdout",
          "text": [
            "1 + 2 + 3.578 = 6.577999999999999\n"
          ]
        }
      ]
    },
    {
      "cell_type": "code",
      "source": [
        "# separo os valores a,b,c com o sinal de +, finalizo a impressão com o sinal = \n",
        "# e não pulo linha \n",
        "print(a, b, c, sep=' + ', end=\" = \")\n",
        "# agora faço a impressão da soma após o print anterior\n",
        "print(a+b+c) "
      ],
      "metadata": {
        "colab": {
          "base_uri": "https://localhost:8080/"
        },
        "id": "wTu5S-UOhZkc",
        "outputId": "34aac662-c418-453e-ffc5-37b7cb740b48"
      },
      "execution_count": 6,
      "outputs": [
        {
          "output_type": "stream",
          "name": "stdout",
          "text": [
            "1 + 2 + 3.578 = 6.577999999999999\n"
          ]
        }
      ]
    },
    {
      "cell_type": "markdown",
      "source": [
        "**Explicação:** por ser um jupyter notebook, para imprimir o últiimo valor da célula, não é necessário utilizar o print()"
      ],
      "metadata": {
        "id": "C-NduHHgiESm"
      }
    },
    {
      "cell_type": "code",
      "source": [
        "a+b+c"
      ],
      "metadata": {
        "colab": {
          "base_uri": "https://localhost:8080/"
        },
        "id": "ffx1rfWDiDyY",
        "outputId": "0d7768ce-ea5f-4628-ce2f-734fd068d389"
      },
      "execution_count": 7,
      "outputs": [
        {
          "output_type": "execute_result",
          "data": {
            "text/plain": [
              "6.577999999999999"
            ]
          },
          "metadata": {},
          "execution_count": 7
        }
      ]
    },
    {
      "cell_type": "markdown",
      "source": [
        "### type()"
      ],
      "metadata": {
        "id": "P_tRxxPuf5ZX"
      }
    },
    {
      "cell_type": "code",
      "source": [
        "# retorna o tipo da variável\n",
        "\n",
        "print(type(texto))\n",
        "print(type(a))\n",
        "print(type(c))\n",
        "print(type(letras))"
      ],
      "metadata": {
        "colab": {
          "base_uri": "https://localhost:8080/"
        },
        "id": "lEyuVbumgBOU",
        "outputId": "8fcc65bc-9b41-43f4-8d8a-a4bfe64d2379"
      },
      "execution_count": 8,
      "outputs": [
        {
          "output_type": "stream",
          "name": "stdout",
          "text": [
            "<class 'str'>\n",
            "<class 'int'>\n",
            "<class 'float'>\n",
            "<class 'list'>\n"
          ]
        }
      ]
    },
    {
      "cell_type": "markdown",
      "source": [
        "### min() e max()"
      ],
      "metadata": {
        "id": "Ep8SD0ZJRd-R"
      }
    },
    {
      "cell_type": "code",
      "source": [
        "# retorna o tamanho de uma variável string, lista e outros tipos\n",
        "print(f\"Quantas posições tem a nossa lista?: {len(lista)}\")\n",
        "print(f\"Quantos caracteres tem a string {texto}?: {len(texto)}\")"
      ],
      "metadata": {
        "colab": {
          "base_uri": "https://localhost:8080/"
        },
        "id": "YoFBbwkuJH5Z",
        "outputId": "d3bc197c-89c2-40bf-e2d1-10a379b02902"
      },
      "execution_count": 9,
      "outputs": [
        {
          "output_type": "stream",
          "name": "stdout",
          "text": [
            "Quantas posições tem a nossa lista?: 7\n",
            "Quantos caracteres tem a string Meu Texto é 10?: 14\n"
          ]
        }
      ]
    },
    {
      "cell_type": "code",
      "source": [
        "# retorna o menor valor de uma lista\n",
        "print(min(lista), min(letras), sep=' | ')"
      ],
      "metadata": {
        "colab": {
          "base_uri": "https://localhost:8080/"
        },
        "id": "KU1CXaFuIiLB",
        "outputId": "9462bad5-78db-42a2-be60-6d63f9cffedf"
      },
      "execution_count": 10,
      "outputs": [
        {
          "output_type": "stream",
          "name": "stdout",
          "text": [
            "-9.02 | A\n"
          ]
        }
      ]
    },
    {
      "cell_type": "code",
      "source": [
        "# retorna o maior valor de uma lista\n",
        "max(lista), max(letras)"
      ],
      "metadata": {
        "colab": {
          "base_uri": "https://localhost:8080/"
        },
        "id": "QsefydenImjH",
        "outputId": "55bfd1aa-2886-439b-812d-e0ee2c32416a"
      },
      "execution_count": 11,
      "outputs": [
        {
          "output_type": "execute_result",
          "data": {
            "text/plain": [
              "(9.1, 'C')"
            ]
          },
          "metadata": {},
          "execution_count": 11
        }
      ]
    },
    {
      "cell_type": "markdown",
      "source": [
        "### sorted()\n",
        "Retorna valores de uma lista ou string de forma ordenada"
      ],
      "metadata": {
        "id": "6puWfn1qRrQk"
      }
    },
    {
      "cell_type": "code",
      "source": [
        "# retorna os valores ordenado de uma lista\n",
        "sorted(lista)"
      ],
      "metadata": {
        "colab": {
          "base_uri": "https://localhost:8080/"
        },
        "id": "kTM8QIifIwH3",
        "outputId": "7ca6bb76-93b7-4db0-f3a2-9572d33a5f51"
      },
      "execution_count": 12,
      "outputs": [
        {
          "output_type": "execute_result",
          "data": {
            "text/plain": [
              "[-9.02, 2, 5, 5.8, 7, 8, 9.1]"
            ]
          },
          "metadata": {},
          "execution_count": 12
        }
      ]
    },
    {
      "cell_type": "code",
      "source": [
        "sorted(letras)"
      ],
      "metadata": {
        "colab": {
          "base_uri": "https://localhost:8080/"
        },
        "id": "I01BFtEHi_9-",
        "outputId": "b50f4640-a82b-4c74-fec7-1a5e8dddd3d7"
      },
      "execution_count": 13,
      "outputs": [
        {
          "output_type": "execute_result",
          "data": {
            "text/plain": [
              "['A', 'B', 'C']"
            ]
          },
          "metadata": {},
          "execution_count": 13
        }
      ]
    },
    {
      "cell_type": "code",
      "source": [
        "sorted([c, b, a])"
      ],
      "metadata": {
        "colab": {
          "base_uri": "https://localhost:8080/"
        },
        "id": "RRy1INaji5BX",
        "outputId": "af013d56-8c0d-4ed7-c71e-be8c6e1208d3"
      },
      "execution_count": 14,
      "outputs": [
        {
          "output_type": "execute_result",
          "data": {
            "text/plain": [
              "[1, 2, 3.578]"
            ]
          },
          "metadata": {},
          "execution_count": 14
        }
      ]
    },
    {
      "cell_type": "code",
      "source": [
        "# retorna uma lista ordenada de forma reversa\n",
        "sorted(letras, reverse=True)"
      ],
      "metadata": {
        "colab": {
          "base_uri": "https://localhost:8080/"
        },
        "id": "W_Ym0tpdjLEr",
        "outputId": "6c507add-a219-44b7-c587-6b41183fa492"
      },
      "execution_count": 15,
      "outputs": [
        {
          "output_type": "execute_result",
          "data": {
            "text/plain": [
              "['C', 'B', 'A']"
            ]
          },
          "metadata": {},
          "execution_count": 15
        }
      ]
    },
    {
      "cell_type": "markdown",
      "source": [
        "### round() e abs()"
      ],
      "metadata": {
        "id": "y7FSXPPYR3Nl"
      }
    },
    {
      "cell_type": "code",
      "source": [
        "# retorna o valor arredondado de um valor\n",
        "# passando o valor e a qtd de casas decimais\n",
        "print(c, round(c, 2), round(c, 1), sep=\" | \")"
      ],
      "metadata": {
        "colab": {
          "base_uri": "https://localhost:8080/"
        },
        "id": "xORmB73mLabH",
        "outputId": "a5590dc9-af45-4300-df0d-1e160fdf9de9"
      },
      "execution_count": 16,
      "outputs": [
        {
          "output_type": "stream",
          "name": "stdout",
          "text": [
            "3.578 | 3.58 | 3.6\n"
          ]
        }
      ]
    },
    {
      "cell_type": "code",
      "source": [
        "# retorna o valor absoluto\n",
        "print(\"Valor:\", lista[6], \" | Valor absoluto:\",abs(lista[6]))"
      ],
      "metadata": {
        "colab": {
          "base_uri": "https://localhost:8080/"
        },
        "id": "BpOhPyMiI0t9",
        "outputId": "7cabacd4-77bf-44ec-8734-5ee1735ed5fd"
      },
      "execution_count": 17,
      "outputs": [
        {
          "output_type": "stream",
          "name": "stdout",
          "text": [
            "Valor: -9.02  | Valor absoluto: 9.02\n"
          ]
        }
      ]
    },
    {
      "cell_type": "code",
      "source": [
        "# retorna a soma de uma lista de valores\n",
        "print(f'Soma de nossa lista: {sum(lista)}')\n",
        "\n",
        "print(f'Soma das variáveis: {sum([a, b, c])}')"
      ],
      "metadata": {
        "colab": {
          "base_uri": "https://localhost:8080/"
        },
        "id": "CZN8CjoqKwt-",
        "outputId": "91c396be-610a-4b37-a502-30a515754c72"
      },
      "execution_count": 18,
      "outputs": [
        {
          "output_type": "stream",
          "name": "stdout",
          "text": [
            "Soma de nossa lista: 27.880000000000006\n",
            "Soma das variáveis: 6.577999999999999\n"
          ]
        }
      ]
    },
    {
      "cell_type": "markdown",
      "source": [
        "### range()\n",
        "Gera uma sequência de números"
      ],
      "metadata": {
        "id": "FjWuEaT5qgsS"
      }
    },
    {
      "cell_type": "code",
      "source": [
        "range(0, 10)"
      ],
      "metadata": {
        "colab": {
          "base_uri": "https://localhost:8080/"
        },
        "id": "uOz-Bq5gqiSc",
        "outputId": "55620790-5c06-47ec-a0c3-3b200cf10133"
      },
      "execution_count": 19,
      "outputs": [
        {
          "output_type": "execute_result",
          "data": {
            "text/plain": [
              "range(0, 10)"
            ]
          },
          "metadata": {},
          "execution_count": 19
        }
      ]
    },
    {
      "cell_type": "code",
      "source": [
        "# utilizando o loop for, imprimindo de 0 a 9\n",
        "for i in range(0, 10):\n",
        "  print(i)"
      ],
      "metadata": {
        "colab": {
          "base_uri": "https://localhost:8080/"
        },
        "id": "HF7WVDmVqyC_",
        "outputId": "bf48f893-05b7-48df-86a7-707af452092b"
      },
      "execution_count": 20,
      "outputs": [
        {
          "output_type": "stream",
          "name": "stdout",
          "text": [
            "0\n",
            "1\n",
            "2\n",
            "3\n",
            "4\n",
            "5\n",
            "6\n",
            "7\n",
            "8\n",
            "9\n"
          ]
        }
      ]
    },
    {
      "cell_type": "code",
      "source": [
        "# utilizando o loop for, imprimindo de 0 a 9, pulando de 3 em e\n",
        "for i in range(0, 10, 3):\n",
        "  print(i)"
      ],
      "metadata": {
        "colab": {
          "base_uri": "https://localhost:8080/"
        },
        "id": "F94xSWj0q2Ux",
        "outputId": "d2a51391-1e9c-42bb-a4b8-cf44661302ab"
      },
      "execution_count": 21,
      "outputs": [
        {
          "output_type": "stream",
          "name": "stdout",
          "text": [
            "0\n",
            "3\n",
            "6\n",
            "9\n"
          ]
        }
      ]
    },
    {
      "cell_type": "markdown",
      "source": [
        "### para string\n",
        "Uma string é uma sequência de caracteres.\n",
        "\n",
        "Importante: lista de caracteres não é a mesma coisa que uma string"
      ],
      "metadata": {
        "id": "9Y4gXRG2Tivh"
      }
    },
    {
      "cell_type": "code",
      "source": [
        "# uma string\n",
        "print(texto)"
      ],
      "metadata": {
        "colab": {
          "base_uri": "https://localhost:8080/"
        },
        "id": "VZY4QhFyjuFY",
        "outputId": "3ba29668-1973-41e2-c389-1bede7ea0a6f"
      },
      "execution_count": 22,
      "outputs": [
        {
          "output_type": "stream",
          "name": "stdout",
          "text": [
            "Meu Texto é 10\n"
          ]
        }
      ]
    },
    {
      "cell_type": "code",
      "source": [
        "# por ser uma sequência de caracteres, poderíamos aplicar a função sorted()\n",
        "sorted(texto)"
      ],
      "metadata": {
        "colab": {
          "base_uri": "https://localhost:8080/"
        },
        "id": "-C-Ge9Swjy2a",
        "outputId": "09e343c4-3602-4f8c-cafa-e41924c4fb11"
      },
      "execution_count": 23,
      "outputs": [
        {
          "output_type": "execute_result",
          "data": {
            "text/plain": [
              "[' ', ' ', ' ', '0', '1', 'M', 'T', 'e', 'e', 'o', 't', 'u', 'x', 'é']"
            ]
          },
          "metadata": {},
          "execution_count": 23
        }
      ]
    },
    {
      "cell_type": "markdown",
      "source": [
        "Por ela ser uma sequência, podemos ver essa sequência de forma fatiada. Por exemplo"
      ],
      "metadata": {
        "id": "E6jU1qDeoScd"
      }
    },
    {
      "cell_type": "code",
      "source": [
        "# variável inteira\n",
        "texto"
      ],
      "metadata": {
        "colab": {
          "base_uri": "https://localhost:8080/",
          "height": 35
        },
        "id": "rLCR6qmroYqB",
        "outputId": "eff8fc60-40d4-493c-e637-fe7afd013a0e"
      },
      "execution_count": 24,
      "outputs": [
        {
          "output_type": "execute_result",
          "data": {
            "text/plain": [
              "'Meu Texto é 10'"
            ],
            "application/vnd.google.colaboratory.intrinsic+json": {
              "type": "string"
            }
          },
          "metadata": {},
          "execution_count": 24
        }
      ]
    },
    {
      "cell_type": "code",
      "source": [
        "# a terceira posição da variável texto\n",
        "texto[0], texto[2]"
      ],
      "metadata": {
        "colab": {
          "base_uri": "https://localhost:8080/"
        },
        "id": "mM45BbByodTD",
        "outputId": "4b9e428f-3849-47e3-a364-8a3d0a4f9c4b"
      },
      "execution_count": 25,
      "outputs": [
        {
          "output_type": "execute_result",
          "data": {
            "text/plain": [
              "('M', 'u')"
            ]
          },
          "metadata": {},
          "execution_count": 25
        }
      ]
    },
    {
      "cell_type": "markdown",
      "source": [
        "#### **slice()**\n",
        "\n",
        "Mas como estamos falando de funções embutidas (built-in ), então vamos utilizar a função slice para fatiar a nossa string"
      ],
      "metadata": {
        "id": "tFw4FEQeo6Lu"
      }
    },
    {
      "cell_type": "code",
      "source": [
        "# somente as 3 primeiras posições\n",
        "texto[slice(3)]"
      ],
      "metadata": {
        "colab": {
          "base_uri": "https://localhost:8080/",
          "height": 35
        },
        "id": "sgkyoAcan380",
        "outputId": "273552f8-e20d-4ea6-b201-86b3c5d60df0"
      },
      "execution_count": 26,
      "outputs": [
        {
          "output_type": "execute_result",
          "data": {
            "text/plain": [
              "'Meu'"
            ],
            "application/vnd.google.colaboratory.intrinsic+json": {
              "type": "string"
            }
          },
          "metadata": {},
          "execution_count": 26
        }
      ]
    },
    {
      "cell_type": "code",
      "source": [
        "# ou somente da posiçao 4 até a 9(a 9a não é inclusa)\n",
        "texto[slice(4, 9)]"
      ],
      "metadata": {
        "colab": {
          "base_uri": "https://localhost:8080/",
          "height": 35
        },
        "id": "FT333TH5osQZ",
        "outputId": "1798cabf-c0a8-42bf-bfed-377fe9704e74"
      },
      "execution_count": 27,
      "outputs": [
        {
          "output_type": "execute_result",
          "data": {
            "text/plain": [
              "'Texto'"
            ],
            "application/vnd.google.colaboratory.intrinsic+json": {
              "type": "string"
            }
          },
          "metadata": {},
          "execution_count": 27
        }
      ]
    },
    {
      "cell_type": "code",
      "source": [
        "# da 4 até a 9 posição, de 2 em duas letras\n",
        "texto[slice(4, 9, 2)]"
      ],
      "metadata": {
        "colab": {
          "base_uri": "https://localhost:8080/",
          "height": 35
        },
        "id": "3QwDfIfnpgIS",
        "outputId": "096ed74c-1530-420e-a895-eb46d6e3baab"
      },
      "execution_count": 28,
      "outputs": [
        {
          "output_type": "execute_result",
          "data": {
            "text/plain": [
              "'Txo'"
            ],
            "application/vnd.google.colaboratory.intrinsic+json": {
              "type": "string"
            }
          },
          "metadata": {},
          "execution_count": 28
        }
      ]
    },
    {
      "cell_type": "markdown",
      "source": [
        "Vamos a outras funções para strings\n",
        "\n",
        "#### **upper() ou lower()**"
      ],
      "metadata": {
        "id": "_ci-g5MGkBf4"
      }
    },
    {
      "cell_type": "code",
      "source": [
        "texto.upper()"
      ],
      "metadata": {
        "colab": {
          "base_uri": "https://localhost:8080/",
          "height": 35
        },
        "id": "PIj7QW_6Tl7h",
        "outputId": "b0bf94f8-d92d-4fd9-e695-6930d490fb77"
      },
      "execution_count": 29,
      "outputs": [
        {
          "output_type": "execute_result",
          "data": {
            "text/plain": [
              "'MEU TEXTO É 10'"
            ],
            "application/vnd.google.colaboratory.intrinsic+json": {
              "type": "string"
            }
          },
          "metadata": {},
          "execution_count": 29
        }
      ]
    },
    {
      "cell_type": "code",
      "source": [
        "texto.lower()"
      ],
      "metadata": {
        "colab": {
          "base_uri": "https://localhost:8080/",
          "height": 35
        },
        "id": "cbJvQioSkPwt",
        "outputId": "1010cc5b-1480-4680-d0a4-442f696c30e2"
      },
      "execution_count": 30,
      "outputs": [
        {
          "output_type": "execute_result",
          "data": {
            "text/plain": [
              "'meu texto é 10'"
            ],
            "application/vnd.google.colaboratory.intrinsic+json": {
              "type": "string"
            }
          },
          "metadata": {},
          "execution_count": 30
        }
      ]
    },
    {
      "cell_type": "markdown",
      "source": [
        "#### **join()**\n",
        "\n",
        "Iteragindo em uma sequência de caracteres, inserindo novos elementos entre eles."
      ],
      "metadata": {
        "id": "J6aR1ljAkUH7"
      }
    },
    {
      "cell_type": "code",
      "source": [
        "# adicionando o caracter _ entre cada elementro da string\n",
        "\"_\".join(texto)"
      ],
      "metadata": {
        "colab": {
          "base_uri": "https://localhost:8080/",
          "height": 35
        },
        "id": "sJNvjVnKkeSZ",
        "outputId": "9b17debf-9fa7-473a-8698-41a3efd97257"
      },
      "execution_count": 31,
      "outputs": [
        {
          "output_type": "execute_result",
          "data": {
            "text/plain": [
              "'M_e_u_ _T_e_x_t_o_ _é_ _1_0'"
            ],
            "application/vnd.google.colaboratory.intrinsic+json": {
              "type": "string"
            }
          },
          "metadata": {},
          "execution_count": 31
        }
      ]
    },
    {
      "cell_type": "code",
      "source": [
        "# adicionando os caracteres ' + ' entre cada elementro da string\n",
        "\" + \".join(letras)"
      ],
      "metadata": {
        "colab": {
          "base_uri": "https://localhost:8080/",
          "height": 35
        },
        "id": "1ZXgnAqyUdOk",
        "outputId": "f3966767-9e01-4cdc-9b0c-fcd3c0b89ccf"
      },
      "execution_count": 32,
      "outputs": [
        {
          "output_type": "execute_result",
          "data": {
            "text/plain": [
              "'C + A + B'"
            ],
            "application/vnd.google.colaboratory.intrinsic+json": {
              "type": "string"
            }
          },
          "metadata": {},
          "execution_count": 32
        }
      ]
    },
    {
      "cell_type": "markdown",
      "source": [
        "#### **replace()**\n",
        "\n",
        "Substituindo um elemento da string por outro elemento"
      ],
      "metadata": {
        "id": "V8vlmPVhlSHy"
      }
    },
    {
      "cell_type": "code",
      "source": [
        "texto.replace(\"e\", \"3\")"
      ],
      "metadata": {
        "colab": {
          "base_uri": "https://localhost:8080/",
          "height": 35
        },
        "id": "68mtaq2nV7Wh",
        "outputId": "e736a867-ca63-4a8e-8736-04d44567c602"
      },
      "execution_count": 33,
      "outputs": [
        {
          "output_type": "execute_result",
          "data": {
            "text/plain": [
              "'M3u T3xto é 10'"
            ],
            "application/vnd.google.colaboratory.intrinsic+json": {
              "type": "string"
            }
          },
          "metadata": {},
          "execution_count": 33
        }
      ]
    },
    {
      "cell_type": "markdown",
      "source": [
        "#### **split()**\n",
        "\n",
        "Transforma uma string em uma lista utilizando um caracter da string com um separador"
      ],
      "metadata": {
        "id": "S07tHMjTld9o"
      }
    },
    {
      "cell_type": "code",
      "source": [
        "print(texto)\n",
        "print(texto.split(\" \"))"
      ],
      "metadata": {
        "colab": {
          "base_uri": "https://localhost:8080/"
        },
        "id": "aknoiKG-Wgs8",
        "outputId": "9548e1b1-b326-4f31-eddd-3afde877d317"
      },
      "execution_count": 34,
      "outputs": [
        {
          "output_type": "stream",
          "name": "stdout",
          "text": [
            "Meu Texto é 10\n",
            "['Meu', 'Texto', 'é', '10']\n"
          ]
        }
      ]
    },
    {
      "cell_type": "markdown",
      "source": [
        "#### **isnumeric() ou isalpha()**"
      ],
      "metadata": {
        "id": "DN8AX5-imZNe"
      }
    },
    {
      "cell_type": "code",
      "source": [
        "# verifica se um caracter na string é numérico\n",
        "\n",
        "for caracter in \"Meu texto é 10\": \n",
        "  if caracter.isnumeric():\n",
        "    print(caracter, end='')"
      ],
      "metadata": {
        "colab": {
          "base_uri": "https://localhost:8080/"
        },
        "id": "s0Rdn1X2Xtc_",
        "outputId": "7a08019e-bd1c-440f-ba48-58bbcfd7d9e7"
      },
      "execution_count": 35,
      "outputs": [
        {
          "output_type": "stream",
          "name": "stdout",
          "text": [
            "10"
          ]
        }
      ]
    },
    {
      "cell_type": "code",
      "source": [
        "# verifica se um caracter na string é numérico\n",
        "\n",
        "for caracter in \"Meu texto é 10\": \n",
        "  if caracter.isalpha():\n",
        "    print(caracter, end=' ')"
      ],
      "metadata": {
        "colab": {
          "base_uri": "https://localhost:8080/"
        },
        "id": "ugzqwDBflr36",
        "outputId": "86746d1d-767e-4520-d5ab-6cd121ff3b39"
      },
      "execution_count": 36,
      "outputs": [
        {
          "output_type": "stream",
          "name": "stdout",
          "text": [
            "M e u t e x t o é "
          ]
        }
      ]
    },
    {
      "cell_type": "markdown",
      "source": [
        "#### **strip() lstrip() rstrip()**"
      ],
      "metadata": {
        "id": "_-J1KhQ2nGB5"
      }
    },
    {
      "cell_type": "code",
      "source": [
        "exemplo = \"   banana é uma fruta                    \""
      ],
      "metadata": {
        "id": "m3vk2i0UnfAl"
      },
      "execution_count": 37,
      "outputs": []
    },
    {
      "cell_type": "code",
      "source": [
        "exemplo.strip(\" \")"
      ],
      "metadata": {
        "colab": {
          "base_uri": "https://localhost:8080/",
          "height": 35
        },
        "id": "k3L_gVw6my64",
        "outputId": "a97214ea-c3a0-42e7-ecab-2efb82dfec71"
      },
      "execution_count": 38,
      "outputs": [
        {
          "output_type": "execute_result",
          "data": {
            "text/plain": [
              "'banana é uma fruta'"
            ],
            "application/vnd.google.colaboratory.intrinsic+json": {
              "type": "string"
            }
          },
          "metadata": {},
          "execution_count": 38
        }
      ]
    },
    {
      "cell_type": "code",
      "source": [
        "exemplo.lstrip(' ')"
      ],
      "metadata": {
        "colab": {
          "base_uri": "https://localhost:8080/",
          "height": 35
        },
        "id": "Ago6aFKmnFGi",
        "outputId": "2a184884-77e6-4113-a201-564fb3ef18b4"
      },
      "execution_count": 39,
      "outputs": [
        {
          "output_type": "execute_result",
          "data": {
            "text/plain": [
              "'banana é uma fruta                    '"
            ],
            "application/vnd.google.colaboratory.intrinsic+json": {
              "type": "string"
            }
          },
          "metadata": {},
          "execution_count": 39
        }
      ]
    },
    {
      "cell_type": "code",
      "source": [
        "exemplo.rstrip(' ')"
      ],
      "metadata": {
        "colab": {
          "base_uri": "https://localhost:8080/",
          "height": 35
        },
        "id": "z3g826jYnQhH",
        "outputId": "11794def-68ed-4ce7-be2e-e3914b1b4ad4"
      },
      "execution_count": 40,
      "outputs": [
        {
          "output_type": "execute_result",
          "data": {
            "text/plain": [
              "'   banana é uma fruta'"
            ],
            "application/vnd.google.colaboratory.intrinsic+json": {
              "type": "string"
            }
          },
          "metadata": {},
          "execution_count": 40
        }
      ]
    },
    {
      "cell_type": "markdown",
      "source": [
        "### para dicionários\n",
        "\n",
        "Dicionário é uma estrutura de dados formada por um conjunto de chave e valor, são versáteis e mutáveis. "
      ],
      "metadata": {
        "id": "nG_UJUetr_On"
      }
    },
    {
      "cell_type": "code",
      "source": [
        "dicionario = {\n",
        "    \"SP\": \"SÃO PAULO\",\n",
        "    \"MT\": \"MATO GROSSSO\",\n",
        "    \"NY\": \"NEW YORK\",\n",
        "    \"PR\": \"PARANÁ\",\n",
        "    \"BA\": \"BAHIA\",\n",
        "    \"AC\": \"ACRE\"\n",
        "}"
      ],
      "metadata": {
        "id": "8z-mp930sWlu"
      },
      "execution_count": 41,
      "outputs": []
    },
    {
      "cell_type": "code",
      "source": [
        "dicionario"
      ],
      "metadata": {
        "colab": {
          "base_uri": "https://localhost:8080/"
        },
        "id": "ui23-371sjSQ",
        "outputId": "9514605d-9320-4a69-c4ee-69d533873f1c"
      },
      "execution_count": 42,
      "outputs": [
        {
          "output_type": "execute_result",
          "data": {
            "text/plain": [
              "{'SP': 'SÃO PAULO',\n",
              " 'MT': 'MATO GROSSSO',\n",
              " 'NY': 'NEW YORK',\n",
              " 'PR': 'PARANÁ',\n",
              " 'BA': 'BAHIA',\n",
              " 'AC': 'ACRE'}"
            ]
          },
          "metadata": {},
          "execution_count": 42
        }
      ]
    },
    {
      "cell_type": "code",
      "source": [
        "type(dicionario)"
      ],
      "metadata": {
        "colab": {
          "base_uri": "https://localhost:8080/"
        },
        "id": "fLM8h9JCskrr",
        "outputId": "3ca57a76-3ed5-4b29-efdc-19dd2d120a00"
      },
      "execution_count": 43,
      "outputs": [
        {
          "output_type": "execute_result",
          "data": {
            "text/plain": [
              "dict"
            ]
          },
          "metadata": {},
          "execution_count": 43
        }
      ]
    },
    {
      "cell_type": "code",
      "source": [
        "len(dicionario)"
      ],
      "metadata": {
        "colab": {
          "base_uri": "https://localhost:8080/"
        },
        "id": "RZ77H_LTt88C",
        "outputId": "2eb93f01-a219-4fa1-e00c-35990d7261e9"
      },
      "execution_count": 44,
      "outputs": [
        {
          "output_type": "execute_result",
          "data": {
            "text/plain": [
              "6"
            ]
          },
          "metadata": {},
          "execution_count": 44
        }
      ]
    },
    {
      "cell_type": "code",
      "source": [
        "dicionario['SP']"
      ],
      "metadata": {
        "colab": {
          "base_uri": "https://localhost:8080/",
          "height": 35
        },
        "id": "7pSKA1k1tFth",
        "outputId": "4bd9296e-1e37-4ef7-c643-d54857904bfa"
      },
      "execution_count": 45,
      "outputs": [
        {
          "output_type": "execute_result",
          "data": {
            "text/plain": [
              "'SÃO PAULO'"
            ],
            "application/vnd.google.colaboratory.intrinsic+json": {
              "type": "string"
            }
          },
          "metadata": {},
          "execution_count": 45
        }
      ]
    },
    {
      "cell_type": "markdown",
      "source": [
        "#### get()\n",
        "Acessando o valor pela chave"
      ],
      "metadata": {
        "id": "qVxufNuiuLtd"
      }
    },
    {
      "cell_type": "code",
      "source": [
        "dicionario.get('SP')"
      ],
      "metadata": {
        "colab": {
          "base_uri": "https://localhost:8080/",
          "height": 35
        },
        "id": "A4o-oDZTthax",
        "outputId": "2a939e87-9189-4d59-f0d0-7dbb9f72730a"
      },
      "execution_count": 46,
      "outputs": [
        {
          "output_type": "execute_result",
          "data": {
            "text/plain": [
              "'SÃO PAULO'"
            ],
            "application/vnd.google.colaboratory.intrinsic+json": {
              "type": "string"
            }
          },
          "metadata": {},
          "execution_count": 46
        }
      ]
    },
    {
      "cell_type": "markdown",
      "source": [
        "#### keys()\n",
        "Retornando as chaves em uma lista"
      ],
      "metadata": {
        "id": "wfv98kShuPVO"
      }
    },
    {
      "cell_type": "code",
      "source": [
        "dicionario.keys()"
      ],
      "metadata": {
        "colab": {
          "base_uri": "https://localhost:8080/"
        },
        "id": "LI1ylTKotmjt",
        "outputId": "da92f756-6d33-46f8-8b0b-1003f475b942"
      },
      "execution_count": 47,
      "outputs": [
        {
          "output_type": "execute_result",
          "data": {
            "text/plain": [
              "dict_keys(['SP', 'MT', 'NY', 'PR', 'BA', 'AC'])"
            ]
          },
          "metadata": {},
          "execution_count": 47
        }
      ]
    },
    {
      "cell_type": "markdown",
      "source": [
        "#### values()\n",
        "\n",
        "Retornando os valores em uma lista"
      ],
      "metadata": {
        "id": "3H8sbZDUuhC6"
      }
    },
    {
      "cell_type": "code",
      "source": [
        "dicionario.values()"
      ],
      "metadata": {
        "colab": {
          "base_uri": "https://localhost:8080/"
        },
        "id": "852N6ao9umJY",
        "outputId": "f8c57bdf-d6cb-415b-a4be-0027f1565fbc"
      },
      "execution_count": 48,
      "outputs": [
        {
          "output_type": "execute_result",
          "data": {
            "text/plain": [
              "dict_values(['SÃO PAULO', 'MATO GROSSSO', 'NEW YORK', 'PARANÁ', 'BAHIA', 'ACRE'])"
            ]
          },
          "metadata": {},
          "execution_count": 48
        }
      ]
    },
    {
      "cell_type": "markdown",
      "source": [
        "#### update()\n",
        "Atualizando valores no dicionário"
      ],
      "metadata": {
        "id": "yxGIWxOeu4ZF"
      }
    },
    {
      "cell_type": "code",
      "source": [
        "dicionario.update({\"MT\": \"MATO GROSSO\"})\n",
        "dicionario"
      ],
      "metadata": {
        "colab": {
          "base_uri": "https://localhost:8080/"
        },
        "id": "yswskczQuplS",
        "outputId": "5fea1730-04b3-421e-aab8-3966d028af85"
      },
      "execution_count": 49,
      "outputs": [
        {
          "output_type": "execute_result",
          "data": {
            "text/plain": [
              "{'SP': 'SÃO PAULO',\n",
              " 'MT': 'MATO GROSSO',\n",
              " 'NY': 'NEW YORK',\n",
              " 'PR': 'PARANÁ',\n",
              " 'BA': 'BAHIA',\n",
              " 'AC': 'ACRE'}"
            ]
          },
          "metadata": {},
          "execution_count": 49
        }
      ]
    },
    {
      "cell_type": "markdown",
      "source": [
        "#### del() ou pop()\n",
        "Excluindo registro do dicionário com a função del ou com o método pop"
      ],
      "metadata": {
        "id": "54UO4xWivgAN"
      }
    },
    {
      "cell_type": "code",
      "source": [
        "del dicionario['NY']\n",
        "dicionario"
      ],
      "metadata": {
        "colab": {
          "base_uri": "https://localhost:8080/"
        },
        "id": "PVX5MfGGvnAf",
        "outputId": "7ecde9a1-f264-474b-95da-054fb6e9be3b"
      },
      "execution_count": 50,
      "outputs": [
        {
          "output_type": "execute_result",
          "data": {
            "text/plain": [
              "{'SP': 'SÃO PAULO',\n",
              " 'MT': 'MATO GROSSO',\n",
              " 'PR': 'PARANÁ',\n",
              " 'BA': 'BAHIA',\n",
              " 'AC': 'ACRE'}"
            ]
          },
          "metadata": {},
          "execution_count": 50
        }
      ]
    },
    {
      "cell_type": "code",
      "source": [
        "dicionario['ERR'] = 'VALOR ERRADO'\n",
        "dicionario"
      ],
      "metadata": {
        "colab": {
          "base_uri": "https://localhost:8080/"
        },
        "id": "2G1Lx_afwIKw",
        "outputId": "54136b71-8d90-4bdd-e035-7a74fb831e56"
      },
      "execution_count": 51,
      "outputs": [
        {
          "output_type": "execute_result",
          "data": {
            "text/plain": [
              "{'SP': 'SÃO PAULO',\n",
              " 'MT': 'MATO GROSSO',\n",
              " 'PR': 'PARANÁ',\n",
              " 'BA': 'BAHIA',\n",
              " 'AC': 'ACRE',\n",
              " 'ERR': 'VALOR ERRADO'}"
            ]
          },
          "metadata": {},
          "execution_count": 51
        }
      ]
    },
    {
      "cell_type": "code",
      "source": [
        "dicionario.pop('ERR')\n",
        "dicionario"
      ],
      "metadata": {
        "colab": {
          "base_uri": "https://localhost:8080/"
        },
        "id": "s1Ggl8q9wY9Q",
        "outputId": "717b4647-0ede-4b77-d95f-af559806273c"
      },
      "execution_count": 52,
      "outputs": [
        {
          "output_type": "execute_result",
          "data": {
            "text/plain": [
              "{'SP': 'SÃO PAULO',\n",
              " 'MT': 'MATO GROSSO',\n",
              " 'PR': 'PARANÁ',\n",
              " 'BA': 'BAHIA',\n",
              " 'AC': 'ACRE'}"
            ]
          },
          "metadata": {},
          "execution_count": 52
        }
      ]
    },
    {
      "cell_type": "markdown",
      "source": [
        "#### clear()\n",
        "\n",
        "Limpando o dicionário"
      ],
      "metadata": {
        "id": "jbF8sRbYwo4u"
      }
    },
    {
      "cell_type": "code",
      "source": [
        "dicionario.clear()\n",
        "dicionario"
      ],
      "metadata": {
        "colab": {
          "base_uri": "https://localhost:8080/"
        },
        "id": "B0Ursy6qwr6o",
        "outputId": "d9651935-a71c-471d-f132-34bfbb074948"
      },
      "execution_count": 53,
      "outputs": [
        {
          "output_type": "execute_result",
          "data": {
            "text/plain": [
              "{}"
            ]
          },
          "metadata": {},
          "execution_count": 53
        }
      ]
    }
  ]
}