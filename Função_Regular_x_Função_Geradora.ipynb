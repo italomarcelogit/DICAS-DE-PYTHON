{
  "nbformat": 4,
  "nbformat_minor": 0,
  "metadata": {
    "colab": {
      "provenance": [],
      "authorship_tag": "ABX9TyO/c6DqiDY8f7VborGAmBcB",
      "include_colab_link": true
    },
    "kernelspec": {
      "name": "python3",
      "display_name": "Python 3"
    },
    "language_info": {
      "name": "python"
    }
  },
  "cells": [
    {
      "cell_type": "markdown",
      "metadata": {
        "id": "view-in-github",
        "colab_type": "text"
      },
      "source": [
        "<a href=\"https://colab.research.google.com/github/italomarcelogit/DICAS-DE-PYTHON/blob/main/Fun%C3%A7%C3%A3o_Regular_x_Fun%C3%A7%C3%A3o_Geradora.ipynb\" target=\"_parent\"><img src=\"https://colab.research.google.com/assets/colab-badge.svg\" alt=\"Open In Colab\"/></a>"
      ]
    },
    {
      "cell_type": "markdown",
      "source": [
        "# Função Regular ou Geradora?\n",
        "\n",
        "Neste notebook irei demonstrar em qual momento utilizamos a função regular ou uma função geradora (generator com a palavra-chave yield).\n",
        "\n",
        "Primeiro, vamos utilizar o numpy para gerar uma lista de números aleatórios inteiros com 10 posições"
      ],
      "metadata": {
        "id": "5a5CE-mvBjIb"
      }
    },
    {
      "cell_type": "code",
      "source": [
        "import numpy as np\n",
        "meusNumeros = np.random.randint(1, 100, 10)\n",
        "print(f'Lista Aleatória: {meusNumeros}')"
      ],
      "metadata": {
        "colab": {
          "base_uri": "https://localhost:8080/"
        },
        "id": "h-tSDoL0DQ2M",
        "outputId": "aad8688c-fd41-43b3-de69-0fa67bc71ab5"
      },
      "execution_count": 1,
      "outputs": [
        {
          "output_type": "stream",
          "name": "stdout",
          "text": [
            "Lista Aleatória: [58 60 70 97  3 58 48 29 30 37]\n"
          ]
        }
      ]
    },
    {
      "cell_type": "markdown",
      "source": [
        "Abaixo, criaremos uma função regular que retorna todos os números ímpares de uma lista."
      ],
      "metadata": {
        "id": "JKtc_-1Lclvi"
      }
    },
    {
      "cell_type": "code",
      "execution_count": 2,
      "metadata": {
        "id": "udiX28puBJjE"
      },
      "outputs": [],
      "source": [
        "def impar_A():\n",
        "  impares = []\n",
        "  for x in meusNumeros:\n",
        "    if x % 2 == 1:\n",
        "      impares.append(x)  \n",
        "  return impares"
      ]
    },
    {
      "cell_type": "code",
      "source": [
        "print(f'Ímpares c/ a função 1: {impar_A()}')"
      ],
      "metadata": {
        "colab": {
          "base_uri": "https://localhost:8080/"
        },
        "id": "Pfa8ThG4cUBR",
        "outputId": "70708e5b-5a35-419c-b756-66679fc48d24"
      },
      "execution_count": 3,
      "outputs": [
        {
          "output_type": "stream",
          "name": "stdout",
          "text": [
            "Ímpares c/ a função 1: [97, 3, 29, 37]\n"
          ]
        }
      ]
    },
    {
      "cell_type": "markdown",
      "source": [
        "Agora utilizaremos palavra-chave yield, que é uma instrução Python, para definir a nossa função geradora."
      ],
      "metadata": {
        "id": "A_SSSEl1dMMT"
      }
    },
    {
      "cell_type": "code",
      "source": [
        "def impar_B():\n",
        "  for x in meusNumeros:\n",
        "    if x % 2 == 1:\n",
        "      yield x"
      ],
      "metadata": {
        "id": "6_qTTTacC5vb"
      },
      "execution_count": 4,
      "outputs": []
    },
    {
      "cell_type": "markdown",
      "source": [
        "Acima temos 2 situações interessantes:\n",
        "- Reduzimos 2 linhas de código na função.\n",
        "- Economizamos memória, pois por ser um gerador de expressão, ele não é criado até ser utilizado pela aplicação."
      ],
      "metadata": {
        "id": "NLk7XsYGD_PJ"
      }
    },
    {
      "cell_type": "code",
      "source": [
        "print(f'Ímpares c/ a função 2: {impar_B()}')"
      ],
      "metadata": {
        "colab": {
          "base_uri": "https://localhost:8080/"
        },
        "id": "S0p2-CtQbpKT",
        "outputId": "db9370d9-314b-481a-89ae-185f884205f9"
      },
      "execution_count": 5,
      "outputs": [
        {
          "output_type": "stream",
          "name": "stdout",
          "text": [
            "Ímpares c/ a função 2: <generator object impar_B at 0x7f14beeadbd0>\n"
          ]
        }
      ]
    },
    {
      "cell_type": "markdown",
      "source": [
        "Para exibir o conteúdo, basta iterar com o objeto, convertendo-o em uma lista por exemplo"
      ],
      "metadata": {
        "id": "__pQGohhbvCt"
      }
    },
    {
      "cell_type": "code",
      "source": [
        "print(f'Ímpares c/ a função 2: {list(impar_B())}')"
      ],
      "metadata": {
        "colab": {
          "base_uri": "https://localhost:8080/"
        },
        "id": "t6-QELL7D9-s",
        "outputId": "1c15201e-ae50-42bb-b977-27a2c88e5f65"
      },
      "execution_count": 6,
      "outputs": [
        {
          "output_type": "stream",
          "name": "stdout",
          "text": [
            "Ímpares c/ a função 2: [97, 3, 29, 37]\n"
          ]
        }
      ]
    },
    {
      "cell_type": "markdown",
      "source": [
        "Somente para critério de estudos, poderíamos ter construído as duas funções utilizando list comprehension em ambas as funções."
      ],
      "metadata": {
        "id": "5-8dmv_Qh6yO"
      }
    },
    {
      "cell_type": "code",
      "source": [
        "def impar_A():\n",
        "  return [x for x in meusNumeros if x % 2 == 1]"
      ],
      "metadata": {
        "id": "htKLH7I2eWgv"
      },
      "execution_count": 7,
      "outputs": []
    },
    {
      "cell_type": "code",
      "source": [
        "def impar_B():\n",
        "  yield [x for x in meusNumeros if x % 2 == 1]"
      ],
      "metadata": {
        "id": "MRc1WY0fe5J1"
      },
      "execution_count": 8,
      "outputs": []
    }
  ]
}